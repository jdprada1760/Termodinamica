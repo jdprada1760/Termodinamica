{
 "metadata": {
  "name": "",
  "signature": "sha256:0a75e6c2b7766541ff3cdb7f1140f7a469924d61fb8abc23cf674b32c807d0b6"
 },
 "nbformat": 3,
 "nbformat_minor": 0,
 "worksheets": []
}