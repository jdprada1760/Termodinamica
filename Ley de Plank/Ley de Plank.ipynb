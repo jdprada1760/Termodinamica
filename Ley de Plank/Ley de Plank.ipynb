{
 "metadata": {
  "name": "",
  "signature": "sha256:2e881f6e629c234159bc54c21efcda665acc40af77e210d716ca54f72da6962b"
 },
 "nbformat": 3,
 "nbformat_minor": 0,
 "worksheets": [
  {
   "cells": [
    {
     "cell_type": "code",
     "collapsed": false,
     "input": [
      "from __future__ import division\n",
      "%pylab"
     ],
     "language": "python",
     "metadata": {},
     "outputs": [
      {
       "output_type": "stream",
       "stream": "stdout",
       "text": [
        "Using matplotlib backend: TkAgg\n",
        "Populating the interactive namespace from numpy and matplotlib\n"
       ]
      }
     ],
     "prompt_number": 3
    },
    {
     "cell_type": "code",
     "collapsed": false,
     "input": [
      "h = 6.62606896*10**-34\n",
      "c = 2.99792458*10**8\n",
      "kB = 1.3806488*10**-23\n",
      "print h, c, kB, np.e"
     ],
     "language": "python",
     "metadata": {},
     "outputs": [
      {
       "output_type": "stream",
       "stream": "stdout",
       "text": [
        "6.62606896e-34 299792458.0 1.3806488e-23 2.71828182846\n"
       ]
      }
     ],
     "prompt_number": 4
    },
    {
     "cell_type": "code",
     "collapsed": false,
     "input": [
      "def BT(l, T):\n",
      "    if(l == 0):\n",
      "       return 0\n",
      "    else:\n",
      "        return (2*(c**2)*h/(l**5))/((np.e**(h*c/(l*kB*T)))-1)"
     ],
     "language": "python",
     "metadata": {},
     "outputs": [],
     "prompt_number": 5
    },
    {
     "cell_type": "code",
     "collapsed": false,
     "input": [
      "def F(x):\n",
      "    return x*np.e**x - 5*np.e**x + 5 "
     ],
     "language": "python",
     "metadata": {},
     "outputs": [],
     "prompt_number": 6
    },
    {
     "cell_type": "code",
     "collapsed": false,
     "input": [
      "def df(x):\n",
      "    return (np.e**x)*(x-4)"
     ],
     "language": "python",
     "metadata": {},
     "outputs": [],
     "prompt_number": 7
    },
    {
     "cell_type": "code",
     "collapsed": false,
     "input": [
      "def raizf(x):\n",
      "    while F(x) > 10**-6:\n",
      "        x = x - F(x)/df(x)\n",
      "    return x"
     ],
     "language": "python",
     "metadata": {},
     "outputs": [],
     "prompt_number": 8
    },
    {
     "cell_type": "code",
     "collapsed": false,
     "input": [
      "def lmax(T):\n",
      "    return (h*c/(raizf(5.0)*kB*T))"
     ],
     "language": "python",
     "metadata": {},
     "outputs": [],
     "prompt_number": 9
    },
    {
     "cell_type": "code",
     "collapsed": false,
     "input": [
      "print raizf(5.0)\n",
      "print lmax(1)"
     ],
     "language": "python",
     "metadata": {},
     "outputs": [
      {
       "output_type": "stream",
       "stream": "stdout",
       "text": [
        "4.96511423175\n",
        "0.00289777185453\n"
       ]
      }
     ],
     "prompt_number": 10
    },
    {
     "cell_type": "code",
     "collapsed": false,
     "input": [
      "def graficar(T):\n",
      "    espacioLO = np.linspace(0.0, 6*lmax(T), 500)\n",
      "    i = 0\n",
      "    IER = np.zeros(len(espacioLO))\n",
      "    for i in range(len(espacioLO)):\n",
      "        IER[i] = BT(espacioLO[i], T)\n",
      "        \n",
      "    mx, my = max(espacioLO),max(IER)/2\n",
      "    fig = plt.figure()\n",
      "    ax = fig.add_subplot(111)\n",
      "    ax.plot(espacioLO, IER, 'k')\n",
      "    plt.ticklabel_format(style='sci', axis='x', scilimits=(0,0))\n",
      "    ax.scatter(lmax(T), BT(lmax(T), T))\n",
      "    ax.set_title('Intensidad Espectral de Radiacion a '+ string_(T)+ 'K')\n",
      "    ax.set_xlabel('Longitud de onda(m)')\n",
      "    ax.set_ylabel('Intensidad Espectral de Radiacion(W/m2Hzstrad)')  \n",
      "    ax.annotate('Longitud de onda \\n maxima: \\n' + string_(lmax(T)) + 'm', xy=(lmax(T), BT(lmax(T), T)),  xycoords='data',\n",
      "                xytext=(0.8,0.9), textcoords='axes fraction',\n",
      "                arrowprops=dict(facecolor='black', shrink=0.03),\n",
      "                horizontalalignment='right', verticalalignment='top',\n",
      "                )\n",
      "    plt.xlim(min(espacioLO), max(espacioLO))\n",
      "    plt.ylim(0, 11*max(IER)/10)\n",
      "    plt.show()"
     ],
     "language": "python",
     "metadata": {},
     "outputs": [],
     "prompt_number": 14
    },
    {
     "cell_type": "code",
     "collapsed": false,
     "input": [
      "graficar(3823)"
     ],
     "language": "python",
     "metadata": {},
     "outputs": [],
     "prompt_number": 17
    },
    {
     "cell_type": "code",
     "collapsed": false,
     "input": [
      "graficar(5788)"
     ],
     "language": "python",
     "metadata": {},
     "outputs": [],
     "prompt_number": 15
    },
    {
     "cell_type": "code",
     "collapsed": false,
     "input": [
      "graficar(27000)"
     ],
     "language": "python",
     "metadata": {},
     "outputs": [],
     "prompt_number": 16
    },
    {
     "cell_type": "code",
     "collapsed": false,
     "input": [
      "graficar(183.95)"
     ],
     "language": "python",
     "metadata": {},
     "outputs": [],
     "prompt_number": 18
    },
    {
     "cell_type": "code",
     "collapsed": false,
     "input": [
      "graficar(14.025)"
     ],
     "language": "python",
     "metadata": {},
     "outputs": [],
     "prompt_number": 19
    },
    {
     "cell_type": "code",
     "collapsed": false,
     "input": [
      "graficar(5*10**-10)"
     ],
     "language": "python",
     "metadata": {},
     "outputs": [],
     "prompt_number": 20
    },
    {
     "cell_type": "code",
     "collapsed": false,
     "input": [
      "def graficar3(T1,T2,T3):\n",
      "    espacioLO = np.linspace(0.0, 6*lmax(max(np.array([T1,T2,T3]))), 500)\n",
      "    i = 0\n",
      "    IER1 = IER2 = IER3 = np.zeros(len(espacioLO))\n",
      "    for i in range(len(espacioLO)):\n",
      "        IER1[i] = BT(espacioLO[i], T1)\n",
      "        IER2[i] = BT(espacioLO[i], T2)\n",
      "        IER3[i] = BT(espacioLO[i], T3)\n",
      "\n",
      "    fig = plt.figure()\n",
      "    ax = fig.add_subplot(111)\n",
      "    ax.plot(espacioLO, IER1, 'k')\n",
      "    ax.plot(espacioLO, IER2, 'k')\n",
      "    ax.plot(espacioLO, IER3, 'k')\n",
      "    plt.ticklabel_format(style='sci', axis='x', scilimits=(0,0))\n",
      "    ax.scatter(lmax(T1), BT(lmax(T1), T1))\n",
      "    ax.scatter(lmax(T2), BT(lmax(T2), T2))\n",
      "    ax.scatter(lmax(T3), BT(lmax(T3), T3))\n",
      "    ax.set_title('Intensidad Espectral de Radiacion a '+ string_(T1\n",
      "                                                                 )+ ',' + string_(T2) + ' y ' +string_(T3)+ 'K')\n",
      "    ax.set_xlabel('Longitud de onda(m)')\n",
      "    ax.set_ylabel('Intensidad Espectral de Radiacion(W/m2Hzstrad)')  \n",
      "    ax.annotate('T =' + T1 + 'm', xy=(lmax(T1), BT(lmax(T1), T1)),  xycoords='data',\n",
      "                xytext=(0.8,0.9), textcoords='axes fraction',\n",
      "                arrowprops=dict(facecolor='black', shrink=0.03),\n",
      "                horizontalalignment='right', verticalalignment='top',\n",
      "                )\n",
      "    ax.annotate('T =' + T2 + 'm', xy=(lmax(T2), BT(lmax(T2), T2)),  xycoords='data',\n",
      "                xytext=(0.8,0.9), textcoords='axes fraction',\n",
      "                arrowprops=dict(facecolor='black', shrink=0.03),\n",
      "                horizontalalignment='right', verticalalignment='top',\n",
      "                )\n",
      "    ax.annotate('T =' + T3 + 'm', xy=(lmax(T3), BT(lmax(T3), T3)),  xycoords='data',\n",
      "                xytext=(0.8,0.9), textcoords='axes fraction',\n",
      "                arrowprops=dict(facecolor='black', shrink=0.03),\n",
      "                horizontalalignment='right', verticalalignment='top',\n",
      "                )\n",
      "    plt.xlim(min(espacioLO), max(espacioLO))\n",
      "    plt.ylim(0, 11*max(np.array([max(IER1), max(IER2), max(IER3)])/10))\n",
      "    plt.show()"
     ],
     "language": "python",
     "metadata": {},
     "outputs": [],
     "prompt_number": 26
    },
    {
     "cell_type": "code",
     "collapsed": false,
     "input": [
      "graficar3(3823, 5788, 27000)"
     ],
     "language": "python",
     "metadata": {},
     "outputs": [
      {
       "output_type": "stream",
       "stream": "stderr",
       "text": [
        "-c:5: RuntimeWarning: overflow encountered in double_scalars\n"
       ]
      },
      {
       "ename": "TypeError",
       "evalue": "cannot concatenate 'str' and 'int' objects",
       "output_type": "pyerr",
       "traceback": [
        "\u001b[1;31m---------------------------------------------------------------------------\u001b[0m\n\u001b[1;31mTypeError\u001b[0m                                 Traceback (most recent call last)",
        "\u001b[1;32m<ipython-input-27-f4d87d96a250>\u001b[0m in \u001b[0;36m<module>\u001b[1;34m()\u001b[0m\n\u001b[1;32m----> 1\u001b[1;33m \u001b[0mgraficar3\u001b[0m\u001b[1;33m(\u001b[0m\u001b[1;36m3823\u001b[0m\u001b[1;33m,\u001b[0m \u001b[1;36m5788\u001b[0m\u001b[1;33m,\u001b[0m \u001b[1;36m27000\u001b[0m\u001b[1;33m)\u001b[0m\u001b[1;33m\u001b[0m\u001b[0m\n\u001b[0m",
        "\u001b[1;32m<ipython-input-26-a54efca0086f>\u001b[0m in \u001b[0;36mgraficar3\u001b[1;34m(T1, T2, T3)\u001b[0m\n\u001b[0;32m     21\u001b[0m     \u001b[0max\u001b[0m\u001b[1;33m.\u001b[0m\u001b[0mset_xlabel\u001b[0m\u001b[1;33m(\u001b[0m\u001b[1;34m'Longitud de onda(m)'\u001b[0m\u001b[1;33m)\u001b[0m\u001b[1;33m\u001b[0m\u001b[0m\n\u001b[0;32m     22\u001b[0m     \u001b[0max\u001b[0m\u001b[1;33m.\u001b[0m\u001b[0mset_ylabel\u001b[0m\u001b[1;33m(\u001b[0m\u001b[1;34m'Intensidad Espectral de Radiacion(W/m2Hzstrad)'\u001b[0m\u001b[1;33m)\u001b[0m\u001b[1;33m\u001b[0m\u001b[0m\n\u001b[1;32m---> 23\u001b[1;33m     ax.annotate('T =' + T1 + 'm', xy=(lmax(T1), BT(lmax(T1), T1)),  xycoords='data',\n\u001b[0m\u001b[0;32m     24\u001b[0m                 \u001b[0mxytext\u001b[0m\u001b[1;33m=\u001b[0m\u001b[1;33m(\u001b[0m\u001b[1;36m0.8\u001b[0m\u001b[1;33m,\u001b[0m\u001b[1;36m0.9\u001b[0m\u001b[1;33m)\u001b[0m\u001b[1;33m,\u001b[0m \u001b[0mtextcoords\u001b[0m\u001b[1;33m=\u001b[0m\u001b[1;34m'axes fraction'\u001b[0m\u001b[1;33m,\u001b[0m\u001b[1;33m\u001b[0m\u001b[0m\n\u001b[0;32m     25\u001b[0m                 \u001b[0marrowprops\u001b[0m\u001b[1;33m=\u001b[0m\u001b[0mdict\u001b[0m\u001b[1;33m(\u001b[0m\u001b[0mfacecolor\u001b[0m\u001b[1;33m=\u001b[0m\u001b[1;34m'black'\u001b[0m\u001b[1;33m,\u001b[0m \u001b[0mshrink\u001b[0m\u001b[1;33m=\u001b[0m\u001b[1;36m0.03\u001b[0m\u001b[1;33m)\u001b[0m\u001b[1;33m,\u001b[0m\u001b[1;33m\u001b[0m\u001b[0m\n",
        "\u001b[1;31mTypeError\u001b[0m: cannot concatenate 'str' and 'int' objects"
       ]
      }
     ],
     "prompt_number": 27
    },
    {
     "cell_type": "code",
     "collapsed": false,
     "input": [],
     "language": "python",
     "metadata": {},
     "outputs": []
    }
   ],
   "metadata": {}
  }
 ]
}